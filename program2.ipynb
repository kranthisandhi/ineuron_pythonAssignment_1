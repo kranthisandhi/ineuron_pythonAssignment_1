{
 "cells": [
  {
   "cell_type": "markdown",
   "metadata": {},
   "source": [
    "# Write a Python program to accept the user's first and last name and then getting them printed in the the reverse order with a space between first name and last name."
   ]
  },
  {
   "cell_type": "code",
   "execution_count": 7,
   "metadata": {},
   "outputs": [
    {
     "name": "stdout",
     "output_type": "stream",
     "text": [
      "Enter First Name kranthi\n",
      "Enter Last Name reddy\n",
      "kranthi reddy\n",
      "String in Reverse Order :  ydder ihtnark\n"
     ]
    }
   ],
   "source": [
    "first_name=input(\"Enter First Name \")\n",
    "last_name=input(\"Enter Last Name \")\n",
    "full_name=first_name + \" \"+last_name\n",
    "print(full_name)\n",
    "print(\"String in Reverse Order : \",full_name[::-1])\n"
   ]
  }
 ],
 "metadata": {
  "kernelspec": {
   "display_name": "Python 3",
   "language": "python",
   "name": "python3"
  },
  "language_info": {
   "codemirror_mode": {
    "name": "ipython",
    "version": 3
   },
   "file_extension": ".py",
   "mimetype": "text/x-python",
   "name": "python",
   "nbconvert_exporter": "python",
   "pygments_lexer": "ipython3",
   "version": "3.8.5"
  }
 },
 "nbformat": 4,
 "nbformat_minor": 4
}
