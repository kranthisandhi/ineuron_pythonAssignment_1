{
 "cells": [
  {
   "cell_type": "markdown",
   "metadata": {},
   "source": [
    "# Write a Python program to find the volume of a sphere with diameter 12 cm.\n",
    "    V=4/3 * π * r3"
   ]
  },
  {
   "cell_type": "code",
   "execution_count": 2,
   "metadata": {},
   "outputs": [
    {
     "name": "stdout",
     "output_type": "stream",
     "text": [
      "Enter Radius of Sphere 6\n",
      " Volume of a Sphere  904.7519999999998\n"
     ]
    }
   ],
   "source": [
    "pi=3.1415\n",
    "r=float(input(\"Enter Radius of Sphere \"))\n",
    "v=4/3*pi*r*r*r\n",
    "print(\" Volume of a Sphere \",v)"
   ]
  }
 ],
 "metadata": {
  "kernelspec": {
   "display_name": "Python 3",
   "language": "python",
   "name": "python3"
  },
  "language_info": {
   "codemirror_mode": {
    "name": "ipython",
    "version": 3
   },
   "file_extension": ".py",
   "mimetype": "text/x-python",
   "name": "python",
   "nbconvert_exporter": "python",
   "pygments_lexer": "ipython3",
   "version": "3.8.5"
  }
 },
 "nbformat": 4,
 "nbformat_minor": 4
}
